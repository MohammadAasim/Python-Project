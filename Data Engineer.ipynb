{
 "cells": [
  {
   "cell_type": "code",
   "execution_count": 2,
   "id": "d9caccdf",
   "metadata": {},
   "outputs": [
    {
     "ename": "FileNotFoundError",
     "evalue": "[Errno 2] No such file or directory: '/path/to/DLTINS_20210117_01of01.zip'",
     "output_type": "error",
     "traceback": [
      "\u001b[1;31m---------------------------------------------------------------------------\u001b[0m",
      "\u001b[1;31mFileNotFoundError\u001b[0m                         Traceback (most recent call last)",
      "Input \u001b[1;32mIn [2]\u001b[0m, in \u001b[0;36m<cell line: 6>\u001b[1;34m()\u001b[0m\n\u001b[0;32m      3\u001b[0m \u001b[38;5;28;01mimport\u001b[39;00m \u001b[38;5;21;01mcsv\u001b[39;00m\n\u001b[0;32m      5\u001b[0m \u001b[38;5;66;03m# Open the zip file and extract the XML file\u001b[39;00m\n\u001b[1;32m----> 6\u001b[0m \u001b[38;5;28;01mwith\u001b[39;00m \u001b[43mzipfile\u001b[49m\u001b[38;5;241;43m.\u001b[39;49m\u001b[43mZipFile\u001b[49m\u001b[43m(\u001b[49m\u001b[38;5;124;43m'\u001b[39;49m\u001b[38;5;124;43m/path/to/DLTINS_20210117_01of01.zip\u001b[39;49m\u001b[38;5;124;43m'\u001b[39;49m\u001b[43m,\u001b[49m\u001b[43m \u001b[49m\u001b[38;5;124;43m'\u001b[39;49m\u001b[38;5;124;43mr\u001b[39;49m\u001b[38;5;124;43m'\u001b[39;49m\u001b[43m)\u001b[49m \u001b[38;5;28;01mas\u001b[39;00m zip_ref:\n\u001b[0;32m      7\u001b[0m     xml_content \u001b[38;5;241m=\u001b[39m zip_ref\u001b[38;5;241m.\u001b[39mread(\u001b[38;5;124m'\u001b[39m\u001b[38;5;124mDLTINS_20210117_01of01.xml\u001b[39m\u001b[38;5;124m'\u001b[39m)\n\u001b[0;32m      9\u001b[0m \u001b[38;5;66;03m# Parse the XML content\u001b[39;00m\n",
      "File \u001b[1;32mE:\\Anaconda\\lib\\zipfile.py:1251\u001b[0m, in \u001b[0;36mZipFile.__init__\u001b[1;34m(self, file, mode, compression, allowZip64, compresslevel, strict_timestamps)\u001b[0m\n\u001b[0;32m   1249\u001b[0m \u001b[38;5;28;01mwhile\u001b[39;00m \u001b[38;5;28;01mTrue\u001b[39;00m:\n\u001b[0;32m   1250\u001b[0m     \u001b[38;5;28;01mtry\u001b[39;00m:\n\u001b[1;32m-> 1251\u001b[0m         \u001b[38;5;28mself\u001b[39m\u001b[38;5;241m.\u001b[39mfp \u001b[38;5;241m=\u001b[39m \u001b[43mio\u001b[49m\u001b[38;5;241;43m.\u001b[39;49m\u001b[43mopen\u001b[49m\u001b[43m(\u001b[49m\u001b[43mfile\u001b[49m\u001b[43m,\u001b[49m\u001b[43m \u001b[49m\u001b[43mfilemode\u001b[49m\u001b[43m)\u001b[49m\n\u001b[0;32m   1252\u001b[0m     \u001b[38;5;28;01mexcept\u001b[39;00m \u001b[38;5;167;01mOSError\u001b[39;00m:\n\u001b[0;32m   1253\u001b[0m         \u001b[38;5;28;01mif\u001b[39;00m filemode \u001b[38;5;129;01min\u001b[39;00m modeDict:\n",
      "\u001b[1;31mFileNotFoundError\u001b[0m: [Errno 2] No such file or directory: '/path/to/DLTINS_20210117_01of01.zip'"
     ]
    }
   ],
   "source": [
    "import zipfile\n",
    "import xml.etree.ElementTree as ET\n",
    "import csv\n",
    "\n",
    "# Open the zip file and extract the XML file\n",
    "with zipfile.ZipFile('/path/to/DLTINS_20210117_01of01.zip', 'r') as zip_ref:\n",
    "    xml_content = zip_ref.read('DLTINS_20210117_01of01.xml')\n",
    "\n",
    "# Parse the XML content\n",
    "root = ET.fromstring(xml_content)\n",
    "\n",
    "download_link = 'https://registers.esma.europa.eu/solr/esma_registers_firds_files/select?q=*&fq=publication_date:%5B2021-01-17T00:00:00Z+TO+2021-01-19T23:59:59Z%5D&wt=xml&indent=true&start=0&rows=100'\n",
    "for doc in root.iter('doc'):\n",
    "    file_type = doc.find('str[@name=\"file_type\"]').text\n",
    "    if file_type == 'DLTINS':\n",
    "        download_link = doc.find('str[@name=\"download_link\"]').text\n",
    "        break\n",
    "\n",
    "# Download the zip file from the download link (assuming you have the requests library installed)\n",
    "import requests\n",
    "response = requests.get(download_link)\n",
    "with open('/path/to/DLTINS.zip', 'wb') as f:\n",
    "    f.write(response.content)\n",
    "\n",
    "# Open the zip file and extract the XML file\n",
    "with zipfile.ZipFile('/path/to/DLTINS.zip', 'r') as zip_ref:\n",
    "    xml_content = zip_ref.read('DLTINS.xml')\n",
    "\n",
    "# Parse the XML content\n",
    "root = ET.fromstring(xml_content)\n",
    "\n",
    "# Convert the XML content to CSV\n",
    "with open('/path/to/DLTINS.csv', 'w', newline='') as csvfile:\n",
    "    fieldnames = ['FinInstrmGnlAttrbts.Id', 'FinInstrmGnlAttrbts.FullNm', 'FinInstrmGnlAttrbts.ClssfctnTp',\n",
    "                  'FinInstrmGnlAttrbts.CmmdtyDerivInd', 'FinInstrmGnlAttrbts.NtnlCcy', 'Issr', 'TradgSsnId']\n",
    "    writer = csv.DictWriter(csvfile, fieldnames=fieldnames)\n",
    "\n",
    "    writer.writeheader()\n",
    "    for doc in root.iter('Doc'):\n",
    "        row = {}\n",
    "        for fieldname in fieldnames:\n",
    "            row[fieldname] = doc.find(fieldname.replace('.', '/')).text\n",
    "        writer.writerow(row)\n"
   ]
  },
  {
   "cell_type": "code",
   "execution_count": null,
   "id": "7487af24",
   "metadata": {},
   "outputs": [],
   "source": []
  }
 ],
 "metadata": {
  "kernelspec": {
   "display_name": "Python 3 (ipykernel)",
   "language": "python",
   "name": "python3"
  },
  "language_info": {
   "codemirror_mode": {
    "name": "ipython",
    "version": 3
   },
   "file_extension": ".py",
   "mimetype": "text/x-python",
   "name": "python",
   "nbconvert_exporter": "python",
   "pygments_lexer": "ipython3",
   "version": "3.8.8"
  }
 },
 "nbformat": 4,
 "nbformat_minor": 5
}
